{
 "cells": [
  {
   "cell_type": "code",
   "execution_count": 7,
   "id": "c7b5c44e",
   "metadata": {
    "_cell_guid": "8a1ee1c7-8df7-4114-9008-a2601ab4cead",
    "_uuid": "7203d748-867d-4c36-9c7c-0e400518c810",
    "collapsed": false,
    "execution": {
     "iopub.execute_input": "2022-02-05T10:56:42.751248Z",
     "iopub.status.busy": "2022-02-05T10:56:42.750600Z",
     "iopub.status.idle": "2022-02-05T10:56:42.765529Z",
     "shell.execute_reply": "2022-02-05T10:56:42.766060Z",
     "shell.execute_reply.started": "2022-02-05T10:53:56.461989Z"
    },
    "jupyter": {
     "outputs_hidden": false
    },
    "papermill": {
     "duration": 0.038756,
     "end_time": "2022-02-05T10:56:42.766342",
     "exception": false,
     "start_time": "2022-02-05T10:56:42.727586",
     "status": "completed"
    },
    "tags": []
   },
   "outputs": [
    {
     "name": "stdout",
     "output_type": "stream",
     "text": [
      "/Users/lsheiba/lsdev/nft_sales/nft-history-dataset.ipynb\n",
      "/Users/lsheiba/lsdev/nft_sales/nft-data-visualization.ipynb\n",
      "/Users/lsheiba/lsdev/nft_sales/notebook3d15234bc4.ipynb\n",
      "/Users/lsheiba/lsdev/nft_sales/nft-analysis.ipynb\n",
      "/Users/lsheiba/lsdev/nft_sales/NFT_Sales.csv\n"
     ]
    }
   ],
   "source": [
    "# This Python 3 environment comes with many helpful analytics libraries installed\n",
    "# It is defined by the kaggle/python Docker image: https://github.com/kaggle/docker-python\n",
    "# For example, here's several helpful packages to load\n",
    "\n",
    "import numpy as np # linear algebra\n",
    "import pandas as pd # data processing, CSV file I/O (e.g. pd.read_csv)\n",
    "\n",
    "# Input data files are available in the read-only \"../input/\" directory\n",
    "# For example, running this (by clicking run or pressing Shift+Enter) will list all files under the input directory\n",
    "\n",
    "import os\n",
    "for dirname, _, filenames in os.walk(os.getcwd()):\n",
    "    for filename in filenames:\n",
    "        print(os.path.join(dirname, filename))\n",
    "\n",
    "# You can write up to 20GB to the current directory (/kaggle/working/) that gets preserved as output when you create a version using \"Save & Run All\" \n",
    "# You can also write temporary files to /kaggle/temp/, but they won't be saved outside of the current session"
   ]
  },
  {
   "cell_type": "code",
   "execution_count": 3,
   "id": "1f78d30b",
   "metadata": {
    "_cell_guid": "a8ed6f59-60e2-48cf-8d11-243f62f93052",
    "_uuid": "2d06a03c-14c7-4a82-8578-3fd0c464db8d",
    "collapsed": false,
    "execution": {
     "iopub.execute_input": "2022-02-05T10:56:42.808684Z",
     "iopub.status.busy": "2022-02-05T10:56:42.807865Z",
     "iopub.status.idle": "2022-02-05T10:56:42.846758Z",
     "shell.execute_reply": "2022-02-05T10:56:42.847230Z",
     "shell.execute_reply.started": "2022-02-05T10:53:56.494199Z"
    },
    "jupyter": {
     "outputs_hidden": false
    },
    "papermill": {
     "duration": 0.060937,
     "end_time": "2022-02-05T10:56:42.847367",
     "exception": false,
     "start_time": "2022-02-05T10:56:42.786430",
     "status": "completed"
    },
    "tags": []
   },
   "outputs": [
    {
     "data": {
      "text/html": [
       "<div>\n",
       "<style scoped>\n",
       "    .dataframe tbody tr th:only-of-type {\n",
       "        vertical-align: middle;\n",
       "    }\n",
       "\n",
       "    .dataframe tbody tr th {\n",
       "        vertical-align: top;\n",
       "    }\n",
       "\n",
       "    .dataframe thead th {\n",
       "        text-align: right;\n",
       "    }\n",
       "</style>\n",
       "<table border=\"1\" class=\"dataframe\">\n",
       "  <thead>\n",
       "    <tr style=\"text-align: right;\">\n",
       "      <th></th>\n",
       "      <th>Date</th>\n",
       "      <th>Sales_USD_cumsum</th>\n",
       "      <th>Number_of_Sales_cumsum</th>\n",
       "      <th>Active_Market_Wallets_cumsum</th>\n",
       "      <th>Primary_Sales_cumsum</th>\n",
       "      <th>Secondary_Sales_cumsum</th>\n",
       "      <th>AverageUSD_cum</th>\n",
       "      <th>Sales_USD</th>\n",
       "      <th>Number_of_Sales</th>\n",
       "      <th>Active_Market_Wallets</th>\n",
       "      <th>Primary_Sales</th>\n",
       "    </tr>\n",
       "  </thead>\n",
       "  <tbody>\n",
       "    <tr>\n",
       "      <th>0</th>\n",
       "      <td>2017-06-22</td>\n",
       "      <td>0.00</td>\n",
       "      <td>0</td>\n",
       "      <td>0.0</td>\n",
       "      <td>0</td>\n",
       "      <td>NaN</td>\n",
       "      <td>NaN</td>\n",
       "      <td>NaN</td>\n",
       "      <td>NaN</td>\n",
       "      <td>NaN</td>\n",
       "      <td>NaN</td>\n",
       "    </tr>\n",
       "    <tr>\n",
       "      <th>1</th>\n",
       "      <td>2017-06-23</td>\n",
       "      <td>1020.30</td>\n",
       "      <td>19</td>\n",
       "      <td>8.0</td>\n",
       "      <td>0</td>\n",
       "      <td>19.0</td>\n",
       "      <td>53.70</td>\n",
       "      <td>1020.30</td>\n",
       "      <td>19.0</td>\n",
       "      <td>8.0</td>\n",
       "      <td>0.0</td>\n",
       "    </tr>\n",
       "    <tr>\n",
       "      <th>2</th>\n",
       "      <td>2017-06-24</td>\n",
       "      <td>2261.14</td>\n",
       "      <td>40</td>\n",
       "      <td>21.0</td>\n",
       "      <td>0</td>\n",
       "      <td>21.0</td>\n",
       "      <td>56.53</td>\n",
       "      <td>1240.84</td>\n",
       "      <td>21.0</td>\n",
       "      <td>13.0</td>\n",
       "      <td>0.0</td>\n",
       "    </tr>\n",
       "    <tr>\n",
       "      <th>3</th>\n",
       "      <td>2017-06-25</td>\n",
       "      <td>2778.69</td>\n",
       "      <td>53</td>\n",
       "      <td>28.0</td>\n",
       "      <td>0</td>\n",
       "      <td>13.0</td>\n",
       "      <td>52.43</td>\n",
       "      <td>517.55</td>\n",
       "      <td>13.0</td>\n",
       "      <td>7.0</td>\n",
       "      <td>0.0</td>\n",
       "    </tr>\n",
       "    <tr>\n",
       "      <th>4</th>\n",
       "      <td>2017-06-26</td>\n",
       "      <td>3203.32</td>\n",
       "      <td>67</td>\n",
       "      <td>34.0</td>\n",
       "      <td>0</td>\n",
       "      <td>14.0</td>\n",
       "      <td>47.81</td>\n",
       "      <td>424.63</td>\n",
       "      <td>14.0</td>\n",
       "      <td>6.0</td>\n",
       "      <td>0.0</td>\n",
       "    </tr>\n",
       "  </tbody>\n",
       "</table>\n",
       "</div>"
      ],
      "text/plain": [
       "         Date  Sales_USD_cumsum  Number_of_Sales_cumsum  \\\n",
       "0  2017-06-22              0.00                       0   \n",
       "1  2017-06-23           1020.30                      19   \n",
       "2  2017-06-24           2261.14                      40   \n",
       "3  2017-06-25           2778.69                      53   \n",
       "4  2017-06-26           3203.32                      67   \n",
       "\n",
       "   Active_Market_Wallets_cumsum  Primary_Sales_cumsum  Secondary_Sales_cumsum  \\\n",
       "0                           0.0                     0                     NaN   \n",
       "1                           8.0                     0                    19.0   \n",
       "2                          21.0                     0                    21.0   \n",
       "3                          28.0                     0                    13.0   \n",
       "4                          34.0                     0                    14.0   \n",
       "\n",
       "   AverageUSD_cum  Sales_USD  Number_of_Sales  Active_Market_Wallets  \\\n",
       "0             NaN        NaN              NaN                    NaN   \n",
       "1           53.70    1020.30             19.0                    8.0   \n",
       "2           56.53    1240.84             21.0                   13.0   \n",
       "3           52.43     517.55             13.0                    7.0   \n",
       "4           47.81     424.63             14.0                    6.0   \n",
       "\n",
       "   Primary_Sales  \n",
       "0            NaN  \n",
       "1            0.0  \n",
       "2            0.0  \n",
       "3            0.0  \n",
       "4            0.0  "
      ]
     },
     "execution_count": 3,
     "metadata": {},
     "output_type": "execute_result"
    }
   ],
   "source": [
    "df = pd.read_csv('NFT_Sales.csv')\n",
    "df.head()"
   ]
  },
  {
   "cell_type": "code",
   "execution_count": 9,
   "id": "16030262",
   "metadata": {
    "_cell_guid": "c4be3ada-f11d-4e51-9717-440c559580f1",
    "_uuid": "2b36f3ee-221c-44a5-9dd9-94679169d829",
    "collapsed": false,
    "execution": {
     "iopub.execute_input": "2022-02-05T10:56:42.878014Z",
     "iopub.status.busy": "2022-02-05T10:56:42.877515Z",
     "iopub.status.idle": "2022-02-05T10:56:42.882196Z",
     "shell.execute_reply": "2022-02-05T10:56:42.881757Z",
     "shell.execute_reply.started": "2022-02-05T10:53:56.535436Z"
    },
    "jupyter": {
     "outputs_hidden": false
    },
    "papermill": {
     "duration": 0.022102,
     "end_time": "2022-02-05T10:56:42.882317",
     "exception": false,
     "start_time": "2022-02-05T10:56:42.860215",
     "status": "completed"
    },
    "tags": []
   },
   "outputs": [
    {
     "data": {
      "text/plain": [
       "RangeIndex(start=0, stop=1606, step=1)"
      ]
     },
     "execution_count": 9,
     "metadata": {},
     "output_type": "execute_result"
    }
   ],
   "source": [
    "df.isnull()\n",
    "df.index"
   ]
  },
  {
   "cell_type": "code",
   "execution_count": 8,
   "id": "01efc8d1",
   "metadata": {
    "_cell_guid": "b9fbb9e2-ab80-4a75-a9f8-5078a00d4f56",
    "_uuid": "b3a44aa0-d560-494a-92ee-b18a3e6a7838",
    "collapsed": false,
    "execution": {
     "iopub.execute_input": "2022-02-05T10:56:42.916533Z",
     "iopub.status.busy": "2022-02-05T10:56:42.915892Z",
     "iopub.status.idle": "2022-02-05T10:56:42.937494Z",
     "shell.execute_reply": "2022-02-05T10:56:42.937898Z",
     "shell.execute_reply.started": "2022-02-05T10:53:56.542731Z"
    },
    "jupyter": {
     "outputs_hidden": false
    },
    "papermill": {
     "duration": 0.042464,
     "end_time": "2022-02-05T10:56:42.938024",
     "exception": false,
     "start_time": "2022-02-05T10:56:42.895560",
     "status": "completed"
    },
    "tags": []
   },
   "outputs": [
    {
     "data": {
      "text/html": [
       "<div>\n",
       "<style scoped>\n",
       "    .dataframe tbody tr th:only-of-type {\n",
       "        vertical-align: middle;\n",
       "    }\n",
       "\n",
       "    .dataframe tbody tr th {\n",
       "        vertical-align: top;\n",
       "    }\n",
       "\n",
       "    .dataframe thead th {\n",
       "        text-align: right;\n",
       "    }\n",
       "</style>\n",
       "<table border=\"1\" class=\"dataframe\">\n",
       "  <thead>\n",
       "    <tr style=\"text-align: right;\">\n",
       "      <th></th>\n",
       "      <th>Date</th>\n",
       "      <th>Sales_USD_cumsum</th>\n",
       "      <th>Number_of_Sales_cumsum</th>\n",
       "      <th>Active_Market_Wallets_cumsum</th>\n",
       "      <th>Primary_Sales_cumsum</th>\n",
       "      <th>Secondary_Sales_cumsum</th>\n",
       "      <th>AverageUSD_cum</th>\n",
       "      <th>Sales_USD</th>\n",
       "      <th>Number_of_Sales</th>\n",
       "      <th>Active_Market_Wallets</th>\n",
       "    </tr>\n",
       "  </thead>\n",
       "  <tbody>\n",
       "    <tr>\n",
       "      <th>1</th>\n",
       "      <td>2017-06-23</td>\n",
       "      <td>1.020300e+03</td>\n",
       "      <td>19</td>\n",
       "      <td>8.0</td>\n",
       "      <td>0</td>\n",
       "      <td>19.0</td>\n",
       "      <td>53.70</td>\n",
       "      <td>1.020300e+03</td>\n",
       "      <td>19.0</td>\n",
       "      <td>8.0</td>\n",
       "    </tr>\n",
       "    <tr>\n",
       "      <th>2</th>\n",
       "      <td>2017-06-24</td>\n",
       "      <td>2.261140e+03</td>\n",
       "      <td>40</td>\n",
       "      <td>21.0</td>\n",
       "      <td>0</td>\n",
       "      <td>21.0</td>\n",
       "      <td>56.53</td>\n",
       "      <td>1.240840e+03</td>\n",
       "      <td>21.0</td>\n",
       "      <td>13.0</td>\n",
       "    </tr>\n",
       "    <tr>\n",
       "      <th>3</th>\n",
       "      <td>2017-06-25</td>\n",
       "      <td>2.778690e+03</td>\n",
       "      <td>53</td>\n",
       "      <td>28.0</td>\n",
       "      <td>0</td>\n",
       "      <td>13.0</td>\n",
       "      <td>52.43</td>\n",
       "      <td>5.175500e+02</td>\n",
       "      <td>13.0</td>\n",
       "      <td>7.0</td>\n",
       "    </tr>\n",
       "    <tr>\n",
       "      <th>4</th>\n",
       "      <td>2017-06-26</td>\n",
       "      <td>3.203320e+03</td>\n",
       "      <td>67</td>\n",
       "      <td>34.0</td>\n",
       "      <td>0</td>\n",
       "      <td>14.0</td>\n",
       "      <td>47.81</td>\n",
       "      <td>4.246300e+02</td>\n",
       "      <td>14.0</td>\n",
       "      <td>6.0</td>\n",
       "    </tr>\n",
       "    <tr>\n",
       "      <th>5</th>\n",
       "      <td>2017-06-27</td>\n",
       "      <td>5.296230e+03</td>\n",
       "      <td>100</td>\n",
       "      <td>44.0</td>\n",
       "      <td>0</td>\n",
       "      <td>33.0</td>\n",
       "      <td>52.96</td>\n",
       "      <td>2.092910e+03</td>\n",
       "      <td>33.0</td>\n",
       "      <td>10.0</td>\n",
       "    </tr>\n",
       "    <tr>\n",
       "      <th>...</th>\n",
       "      <td>...</td>\n",
       "      <td>...</td>\n",
       "      <td>...</td>\n",
       "      <td>...</td>\n",
       "      <td>...</td>\n",
       "      <td>...</td>\n",
       "      <td>...</td>\n",
       "      <td>...</td>\n",
       "      <td>...</td>\n",
       "      <td>...</td>\n",
       "    </tr>\n",
       "    <tr>\n",
       "      <th>1593</th>\n",
       "      <td>2021-10-31</td>\n",
       "      <td>9.651053e+09</td>\n",
       "      <td>10561165</td>\n",
       "      <td>788567.0</td>\n",
       "      <td>6306451</td>\n",
       "      <td>17707.0</td>\n",
       "      <td>913.82</td>\n",
       "      <td>6.634104e+07</td>\n",
       "      <td>53472.0</td>\n",
       "      <td>6286.0</td>\n",
       "    </tr>\n",
       "    <tr>\n",
       "      <th>1594</th>\n",
       "      <td>2021-11-01</td>\n",
       "      <td>9.686592e+09</td>\n",
       "      <td>10574811</td>\n",
       "      <td>794987.0</td>\n",
       "      <td>6318557</td>\n",
       "      <td>1540.0</td>\n",
       "      <td>916.01</td>\n",
       "      <td>3.553877e+07</td>\n",
       "      <td>13646.0</td>\n",
       "      <td>6420.0</td>\n",
       "    </tr>\n",
       "    <tr>\n",
       "      <th>1595</th>\n",
       "      <td>2021-11-02</td>\n",
       "      <td>9.769205e+09</td>\n",
       "      <td>10642199</td>\n",
       "      <td>800357.0</td>\n",
       "      <td>6365554</td>\n",
       "      <td>20391.0</td>\n",
       "      <td>917.97</td>\n",
       "      <td>8.261331e+07</td>\n",
       "      <td>67388.0</td>\n",
       "      <td>5370.0</td>\n",
       "    </tr>\n",
       "    <tr>\n",
       "      <th>1596</th>\n",
       "      <td>2021-11-03</td>\n",
       "      <td>9.812304e+09</td>\n",
       "      <td>10665664</td>\n",
       "      <td>803665.0</td>\n",
       "      <td>6387576</td>\n",
       "      <td>1443.0</td>\n",
       "      <td>919.99</td>\n",
       "      <td>4.309933e+07</td>\n",
       "      <td>23465.0</td>\n",
       "      <td>3308.0</td>\n",
       "    </tr>\n",
       "    <tr>\n",
       "      <th>1597</th>\n",
       "      <td>2021-11-04</td>\n",
       "      <td>9.859177e+09</td>\n",
       "      <td>10678772</td>\n",
       "      <td>803092.0</td>\n",
       "      <td>6392713</td>\n",
       "      <td>7971.0</td>\n",
       "      <td>923.25</td>\n",
       "      <td>4.687265e+07</td>\n",
       "      <td>13108.0</td>\n",
       "      <td>-573.0</td>\n",
       "    </tr>\n",
       "  </tbody>\n",
       "</table>\n",
       "<p>1597 rows × 10 columns</p>\n",
       "</div>"
      ],
      "text/plain": [
       "            Date  Sales_USD_cumsum  Number_of_Sales_cumsum  \\\n",
       "1     2017-06-23      1.020300e+03                      19   \n",
       "2     2017-06-24      2.261140e+03                      40   \n",
       "3     2017-06-25      2.778690e+03                      53   \n",
       "4     2017-06-26      3.203320e+03                      67   \n",
       "5     2017-06-27      5.296230e+03                     100   \n",
       "...          ...               ...                     ...   \n",
       "1593  2021-10-31      9.651053e+09                10561165   \n",
       "1594  2021-11-01      9.686592e+09                10574811   \n",
       "1595  2021-11-02      9.769205e+09                10642199   \n",
       "1596  2021-11-03      9.812304e+09                10665664   \n",
       "1597  2021-11-04      9.859177e+09                10678772   \n",
       "\n",
       "      Active_Market_Wallets_cumsum  Primary_Sales_cumsum  \\\n",
       "1                              8.0                     0   \n",
       "2                             21.0                     0   \n",
       "3                             28.0                     0   \n",
       "4                             34.0                     0   \n",
       "5                             44.0                     0   \n",
       "...                            ...                   ...   \n",
       "1593                      788567.0               6306451   \n",
       "1594                      794987.0               6318557   \n",
       "1595                      800357.0               6365554   \n",
       "1596                      803665.0               6387576   \n",
       "1597                      803092.0               6392713   \n",
       "\n",
       "      Secondary_Sales_cumsum  AverageUSD_cum     Sales_USD  Number_of_Sales  \\\n",
       "1                       19.0           53.70  1.020300e+03             19.0   \n",
       "2                       21.0           56.53  1.240840e+03             21.0   \n",
       "3                       13.0           52.43  5.175500e+02             13.0   \n",
       "4                       14.0           47.81  4.246300e+02             14.0   \n",
       "5                       33.0           52.96  2.092910e+03             33.0   \n",
       "...                      ...             ...           ...              ...   \n",
       "1593                 17707.0          913.82  6.634104e+07          53472.0   \n",
       "1594                  1540.0          916.01  3.553877e+07          13646.0   \n",
       "1595                 20391.0          917.97  8.261331e+07          67388.0   \n",
       "1596                  1443.0          919.99  4.309933e+07          23465.0   \n",
       "1597                  7971.0          923.25  4.687265e+07          13108.0   \n",
       "\n",
       "      Active_Market_Wallets  \n",
       "1                       8.0  \n",
       "2                      13.0  \n",
       "3                       7.0  \n",
       "4                       6.0  \n",
       "5                      10.0  \n",
       "...                     ...  \n",
       "1593                 6286.0  \n",
       "1594                 6420.0  \n",
       "1595                 5370.0  \n",
       "1596                 3308.0  \n",
       "1597                 -573.0  \n",
       "\n",
       "[1597 rows x 10 columns]"
      ]
     },
     "execution_count": 8,
     "metadata": {},
     "output_type": "execute_result"
    }
   ],
   "source": [
    "df1 = df.dropna()\n",
    "df1.iloc[:,:-1]\n",
    "# df1=sorted(df1)\n",
    "# df1"
   ]
  },
  {
   "cell_type": "code",
   "execution_count": 12,
   "id": "1c4f39b3",
   "metadata": {
    "_cell_guid": "fa15f438-6cd6-42c9-b394-1d8fbeb85c29",
    "_uuid": "843188bc-31bc-4a13-94ca-312f83b2007f",
    "collapsed": false,
    "execution": {
     "iopub.execute_input": "2022-02-05T10:56:42.970052Z",
     "iopub.status.busy": "2022-02-05T10:56:42.967644Z",
     "iopub.status.idle": "2022-02-05T10:56:43.905768Z",
     "shell.execute_reply": "2022-02-05T10:56:43.906365Z",
     "shell.execute_reply.started": "2022-02-05T10:53:56.575283Z"
    },
    "jupyter": {
     "outputs_hidden": false
    },
    "papermill": {
     "duration": 0.954641,
     "end_time": "2022-02-05T10:56:43.906520",
     "exception": false,
     "start_time": "2022-02-05T10:56:42.951879",
     "status": "completed"
    },
    "tags": []
   },
   "outputs": [
    {
     "name": "stderr",
     "output_type": "stream",
     "text": [
      "/Users/lsheiba/.pyenv/versions/3.10.2/lib/python3.10/site-packages/seaborn/_decorators.py:36: FutureWarning: Pass the following variable as a keyword arg: x. From version 0.12, the only valid positional argument will be `data`, and passing other arguments without an explicit keyword will result in an error or misinterpretation.\n",
      "  warnings.warn(\n"
     ]
    },
    {
     "data": {
      "text/plain": [
       "<AxesSubplot:xlabel='Number_of_Sales_cumsum'>"
      ]
     },
     "execution_count": 12,
     "metadata": {},
     "output_type": "execute_result"
    },
    {
     "data": {
      "image/png": "[encoded data removed]",
      "text/plain": [
       "<Figure size 432x288 with 1 Axes>"
      ]
     },
     "metadata": {
      "needs_background": "light"
     },
     "output_type": "display_data"
    }
   ],
   "source": [
    "import seaborn as sns\n",
    "sns.boxplot('Number_of_Sales_cumsum', data = df1)"
   ]
  },
  {
   "cell_type": "code",
   "execution_count": 13,
   "id": "90d19dce",
   "metadata": {
    "_cell_guid": "d2311051-aa48-49a0-9d4a-f5d057aae28d",
    "_uuid": "c583d1bb-e5ae-433a-a0c0-4da7fdc01420",
    "collapsed": false,
    "execution": {
     "iopub.execute_input": "2022-02-05T10:56:43.954638Z",
     "iopub.status.busy": "2022-02-05T10:56:43.953851Z",
     "iopub.status.idle": "2022-02-05T10:56:44.173609Z",
     "shell.execute_reply": "2022-02-05T10:56:44.174025Z",
     "shell.execute_reply.started": "2022-02-05T10:53:57.465658Z"
    },
    "jupyter": {
     "outputs_hidden": false
    },
    "papermill": {
     "duration": 0.247276,
     "end_time": "2022-02-05T10:56:44.174160",
     "exception": false,
     "start_time": "2022-02-05T10:56:43.926884",
     "status": "completed"
    },
    "tags": []
   },
   "outputs": [
    {
     "data": {
      "text/plain": [
       "<AxesSubplot:xlabel='Number_of_Sales_cumsum', ylabel='Count'>"
      ]
     },
     "execution_count": 13,
     "metadata": {},
     "output_type": "execute_result"
    },
    {
     "data": {
      "image/png": "[encoded data removed]",
      "text/plain": [
       "<Figure size 432x288 with 1 Axes>"
      ]
     },
     "metadata": {
      "needs_background": "light"
     },
     "output_type": "display_data"
    }
   ],
   "source": [
    "sns.histplot(df1['Number_of_Sales_cumsum'], kde=True)"
   ]
  },
  {
   "cell_type": "code",
   "execution_count": 14,
   "id": "12bf26f4",
   "metadata": {
    "_cell_guid": "aec2ef7b-e4d5-4010-8043-fd8c9e9e61b5",
    "_uuid": "31267fee-d088-4075-ae6d-540da624cd01",
    "collapsed": false,
    "execution": {
     "iopub.execute_input": "2022-02-05T10:56:44.207025Z",
     "iopub.status.busy": "2022-02-05T10:56:44.206546Z",
     "iopub.status.idle": "2022-02-05T10:56:44.533810Z",
     "shell.execute_reply": "2022-02-05T10:56:44.534249Z",
     "shell.execute_reply.started": "2022-02-05T10:53:57.664054Z"
    },
    "jupyter": {
     "outputs_hidden": false
    },
    "papermill": {
     "duration": 0.345042,
     "end_time": "2022-02-05T10:56:44.534375",
     "exception": false,
     "start_time": "2022-02-05T10:56:44.189333",
     "status": "completed"
    },
    "tags": []
   },
   "outputs": [
    {
     "data": {
      "image/png": "[encoded data removed]",
      "text/plain": [
       "<Figure size 432x288 with 1 Axes>"
      ]
     },
     "metadata": {
      "needs_background": "light"
     },
     "output_type": "display_data"
    }
   ],
   "source": [
    "# sns.barplot('Number_of_Sales_cumsum','' data = df1)\n",
    "vl1 = sns.histplot(df1['Active_Market_Wallets_cumsum'], kde=True)"
   ]
  },
  {
   "cell_type": "code",
   "execution_count": 15,
   "id": "142aa52d",
   "metadata": {
    "_cell_guid": "446c3008-8ef2-4b50-bbf0-73c4d722dc7c",
    "_uuid": "0392019b-2f47-49f2-a9f8-9b251789a4b9",
    "collapsed": false,
    "execution": {
     "iopub.execute_input": "2022-02-05T10:56:44.569924Z",
     "iopub.status.busy": "2022-02-05T10:56:44.569409Z",
     "iopub.status.idle": "2022-02-05T10:56:46.413370Z",
     "shell.execute_reply": "2022-02-05T10:56:46.412811Z",
     "shell.execute_reply.started": "2022-02-05T10:53:57.975032Z"
    },
    "jupyter": {
     "outputs_hidden": false
    },
    "papermill": {
     "duration": 1.862875,
     "end_time": "2022-02-05T10:56:46.413516",
     "exception": false,
     "start_time": "2022-02-05T10:56:44.550641",
     "status": "completed"
    },
    "tags": []
   },
   "outputs": [
    {
     "data": {
      "text/plain": [
       "<AxesSubplot:xlabel='Sales_USD_cumsum', ylabel='Count'>"
      ]
     },
     "execution_count": 15,
     "metadata": {},
     "output_type": "execute_result"
    },
    {
     "data": {
      "image/png": "[encoded data removed]",
      "text/plain": [
       "<Figure size 432x288 with 1 Axes>"
      ]
     },
     "metadata": {
      "needs_background": "light"
     },
     "output_type": "display_data"
    }
   ],
   "source": [
    "sns.histplot(df1['Sales_USD_cumsum'], kde=True)"
   ]
  },
  {
   "cell_type": "code",
   "execution_count": 16,
   "id": "a71550d3",
   "metadata": {
    "_cell_guid": "421e8336-e116-4250-aaff-91ca5ce4ae83",
    "_uuid": "f2b96df9-da8a-457e-98fc-ccc2fc5787af",
    "collapsed": false,
    "execution": {
     "iopub.execute_input": "2022-02-05T10:56:46.469414Z",
     "iopub.status.busy": "2022-02-05T10:56:46.468601Z",
     "iopub.status.idle": "2022-02-05T10:56:46.483099Z",
     "shell.execute_reply": "2022-02-05T10:56:46.483595Z",
     "shell.execute_reply.started": "2022-02-05T10:53:59.569957Z"
    },
    "jupyter": {
     "outputs_hidden": false
    },
    "papermill": {
     "duration": 0.044785,
     "end_time": "2022-02-05T10:56:46.483739",
     "exception": false,
     "start_time": "2022-02-05T10:56:46.438954",
     "status": "completed"
    },
    "tags": []
   },
   "outputs": [
    {
     "data": {
      "text/html": [
       "<div>\n",
       "<style scoped>\n",
       "    .dataframe tbody tr th:only-of-type {\n",
       "        vertical-align: middle;\n",
       "    }\n",
       "\n",
       "    .dataframe tbody tr th {\n",
       "        vertical-align: top;\n",
       "    }\n",
       "\n",
       "    .dataframe thead th {\n",
       "        text-align: right;\n",
       "    }\n",
       "</style>\n",
       "<table border=\"1\" class=\"dataframe\">\n",
       "  <thead>\n",
       "    <tr style=\"text-align: right;\">\n",
       "      <th></th>\n",
       "      <th>Date</th>\n",
       "      <th>Sales_USD_cumsum</th>\n",
       "      <th>Number_of_Sales_cumsum</th>\n",
       "      <th>Active_Market_Wallets_cumsum</th>\n",
       "      <th>Primary_Sales_cumsum</th>\n",
       "      <th>Secondary_Sales_cumsum</th>\n",
       "      <th>AverageUSD_cum</th>\n",
       "      <th>Sales_USD</th>\n",
       "      <th>Number_of_Sales</th>\n",
       "      <th>Active_Market_Wallets</th>\n",
       "      <th>Primary_Sales</th>\n",
       "    </tr>\n",
       "  </thead>\n",
       "  <tbody>\n",
       "    <tr>\n",
       "      <th>1593</th>\n",
       "      <td>2021-10-31</td>\n",
       "      <td>9.651053e+09</td>\n",
       "      <td>10561165</td>\n",
       "      <td>788567.0</td>\n",
       "      <td>6306451</td>\n",
       "      <td>17707.0</td>\n",
       "      <td>913.82</td>\n",
       "      <td>6.634104e+07</td>\n",
       "      <td>53472.0</td>\n",
       "      <td>6286.0</td>\n",
       "      <td>35765.0</td>\n",
       "    </tr>\n",
       "    <tr>\n",
       "      <th>1594</th>\n",
       "      <td>2021-11-01</td>\n",
       "      <td>9.686592e+09</td>\n",
       "      <td>10574811</td>\n",
       "      <td>794987.0</td>\n",
       "      <td>6318557</td>\n",
       "      <td>1540.0</td>\n",
       "      <td>916.01</td>\n",
       "      <td>3.553877e+07</td>\n",
       "      <td>13646.0</td>\n",
       "      <td>6420.0</td>\n",
       "      <td>12106.0</td>\n",
       "    </tr>\n",
       "    <tr>\n",
       "      <th>1595</th>\n",
       "      <td>2021-11-02</td>\n",
       "      <td>9.769205e+09</td>\n",
       "      <td>10642199</td>\n",
       "      <td>800357.0</td>\n",
       "      <td>6365554</td>\n",
       "      <td>20391.0</td>\n",
       "      <td>917.97</td>\n",
       "      <td>8.261331e+07</td>\n",
       "      <td>67388.0</td>\n",
       "      <td>5370.0</td>\n",
       "      <td>46997.0</td>\n",
       "    </tr>\n",
       "    <tr>\n",
       "      <th>1596</th>\n",
       "      <td>2021-11-03</td>\n",
       "      <td>9.812304e+09</td>\n",
       "      <td>10665664</td>\n",
       "      <td>803665.0</td>\n",
       "      <td>6387576</td>\n",
       "      <td>1443.0</td>\n",
       "      <td>919.99</td>\n",
       "      <td>4.309933e+07</td>\n",
       "      <td>23465.0</td>\n",
       "      <td>3308.0</td>\n",
       "      <td>22022.0</td>\n",
       "    </tr>\n",
       "    <tr>\n",
       "      <th>1597</th>\n",
       "      <td>2021-11-04</td>\n",
       "      <td>9.859177e+09</td>\n",
       "      <td>10678772</td>\n",
       "      <td>803092.0</td>\n",
       "      <td>6392713</td>\n",
       "      <td>7971.0</td>\n",
       "      <td>923.25</td>\n",
       "      <td>4.687265e+07</td>\n",
       "      <td>13108.0</td>\n",
       "      <td>-573.0</td>\n",
       "      <td>5137.0</td>\n",
       "    </tr>\n",
       "  </tbody>\n",
       "</table>\n",
       "</div>"
      ],
      "text/plain": [
       "            Date  Sales_USD_cumsum  Number_of_Sales_cumsum  \\\n",
       "1593  2021-10-31      9.651053e+09                10561165   \n",
       "1594  2021-11-01      9.686592e+09                10574811   \n",
       "1595  2021-11-02      9.769205e+09                10642199   \n",
       "1596  2021-11-03      9.812304e+09                10665664   \n",
       "1597  2021-11-04      9.859177e+09                10678772   \n",
       "\n",
       "      Active_Market_Wallets_cumsum  Primary_Sales_cumsum  \\\n",
       "1593                      788567.0               6306451   \n",
       "1594                      794987.0               6318557   \n",
       "1595                      800357.0               6365554   \n",
       "1596                      803665.0               6387576   \n",
       "1597                      803092.0               6392713   \n",
       "\n",
       "      Secondary_Sales_cumsum  AverageUSD_cum     Sales_USD  Number_of_Sales  \\\n",
       "1593                 17707.0          913.82  6.634104e+07          53472.0   \n",
       "1594                  1540.0          916.01  3.553877e+07          13646.0   \n",
       "1595                 20391.0          917.97  8.261331e+07          67388.0   \n",
       "1596                  1443.0          919.99  4.309933e+07          23465.0   \n",
       "1597                  7971.0          923.25  4.687265e+07          13108.0   \n",
       "\n",
       "      Active_Market_Wallets  Primary_Sales  \n",
       "1593                 6286.0        35765.0  \n",
       "1594                 6420.0        12106.0  \n",
       "1595                 5370.0        46997.0  \n",
       "1596                 3308.0        22022.0  \n",
       "1597                 -573.0         5137.0  "
      ]
     },
     "execution_count": 16,
     "metadata": {},
     "output_type": "execute_result"
    }
   ],
   "source": [
    "df1.tail()"
   ]
  },
  {
   "cell_type": "code",
   "execution_count": 17,
   "id": "102d1120",
   "metadata": {
    "_cell_guid": "2b43c43e-aeb7-4fca-9da4-8c06f1d881ec",
    "_uuid": "b83ed189-122c-4c90-b953-7ac1d40cfe60",
    "collapsed": false,
    "execution": {
     "iopub.execute_input": "2022-02-05T10:56:46.537499Z",
     "iopub.status.busy": "2022-02-05T10:56:46.536672Z",
     "iopub.status.idle": "2022-02-05T10:56:46.540278Z",
     "shell.execute_reply": "2022-02-05T10:56:46.540773Z",
     "shell.execute_reply.started": "2022-02-05T10:53:59.589580Z"
    },
    "jupyter": {
     "outputs_hidden": false
    },
    "papermill": {
     "duration": 0.031771,
     "end_time": "2022-02-05T10:56:46.540922",
     "exception": false,
     "start_time": "2022-02-05T10:56:46.509151",
     "status": "completed"
    },
    "tags": []
   },
   "outputs": [],
   "source": [
    "df1.head()\n",
    "data = df1.iloc[:,0:3]"
   ]
  },
  {
   "cell_type": "code",
   "execution_count": 19,
   "id": "fd23dd76",
   "metadata": {
    "_cell_guid": "1c547dab-72bf-470d-b4cd-f7b4f467b7e5",
    "_uuid": "a022867e-8fd5-4e4e-b274-096275bd91b5",
    "collapsed": false,
    "execution": {
     "iopub.execute_input": "2022-02-05T10:56:46.595624Z",
     "iopub.status.busy": "2022-02-05T10:56:46.594856Z",
     "iopub.status.idle": "2022-02-05T10:56:46.597514Z",
     "shell.execute_reply": "2022-02-05T10:56:46.598035Z",
     "shell.execute_reply.started": "2022-02-05T10:53:59.598180Z"
    },
    "jupyter": {
     "outputs_hidden": false
    },
    "papermill": {
     "duration": 0.031654,
     "end_time": "2022-02-05T10:56:46.598167",
     "exception": false,
     "start_time": "2022-02-05T10:56:46.566513",
     "status": "completed"
    },
    "tags": []
   },
   "outputs": [
    {
     "ename": "TypeError",
     "evalue": "'DataFrame' object is not callable",
     "output_type": "error",
     "traceback": [
      "\u001b[0;31m---------------------------------------------------------------------------\u001b[0m",
      "\u001b[0;31mTypeError\u001b[0m                                 Traceback (most recent call last)",
      "\u001b[1;32m/Users/lsheiba/lsdev/nft_sales/notebook3d15234bc4.ipynb Cell 11'\u001b[0m in \u001b[0;36m<module>\u001b[0;34m\u001b[0m\n\u001b[1;32m      <a href='vscode-notebook-cell:/Users/lsheiba/lsdev/nft_sales/notebook3d15234bc4.ipynb#ch0000010?line=0'>1</a>\u001b[0m \u001b[39mimport\u001b[39;00m \u001b[39mstatistics\u001b[39;00m\n\u001b[1;32m      <a href='vscode-notebook-cell:/Users/lsheiba/lsdev/nft_sales/notebook3d15234bc4.ipynb#ch0000010?line=1'>2</a>\u001b[0m df2 \u001b[39m=\u001b[39m  pd\u001b[39m.\u001b[39mDataFrame(df)\n\u001b[0;32m----> <a href='vscode-notebook-cell:/Users/lsheiba/lsdev/nft_sales/notebook3d15234bc4.ipynb#ch0000010?line=2'>3</a>\u001b[0m np\u001b[39m.\u001b[39mpercentile(df2(\u001b[39m'\u001b[39;49m\u001b[39mNumber_of_Sales_cumsum\u001b[39;49m\u001b[39m'\u001b[39;49m),[\u001b[39m25\u001b[39m,\u001b[39m99\u001b[39m])\n",
      "\u001b[0;31mTypeError\u001b[0m: 'DataFrame' object is not callable"
     ]
    }
   ],
   "source": [
    "#import statistics\n",
    "#df2 =  pd.DataFrame(df)\n",
    "#np.percentile(df2('Number_of_Sales_cumsum'),[25,99])"
   ]
  },
  {
   "cell_type": "code",
   "execution_count": 21,
   "id": "ad27dd22",
   "metadata": {
    "_cell_guid": "4e6c3904-0761-4c8e-9a6d-13fdbc551473",
    "_uuid": "38b5bf2b-dd2b-4829-aa70-085000a79018",
    "collapsed": false,
    "execution": {
     "iopub.execute_input": "2022-02-05T10:56:46.652137Z",
     "iopub.status.busy": "2022-02-05T10:56:46.651344Z",
     "iopub.status.idle": "2022-02-05T10:56:46.662707Z",
     "shell.execute_reply": "2022-02-05T10:56:46.663208Z",
     "shell.execute_reply.started": "2022-02-05T10:53:59.607913Z"
    },
    "jupyter": {
     "outputs_hidden": false
    },
    "papermill": {
     "duration": 0.039711,
     "end_time": "2022-02-05T10:56:46.663346",
     "exception": false,
     "start_time": "2022-02-05T10:56:46.623635",
     "status": "completed"
    },
    "tags": []
   },
   "outputs": [
    {
     "data": {
      "text/plain": [
       "Timestamp('2017-04-01 00:00:00')"
      ]
     },
     "execution_count": 21,
     "metadata": {},
     "output_type": "execute_result"
    }
   ],
   "source": [
    "# pd.to_datetime(df[[\"year\", \"month\", \"day\"]])\n",
    "idx = pd.period_range('2017-06-23','2021-10-31',freq='Q')\n",
    "idx\n",
    "idx[0].start_time"
   ]
  },
  {
   "cell_type": "code",
   "execution_count": 22,
   "id": "06018599",
   "metadata": {
    "_cell_guid": "90d94f9f-f2e6-482b-8991-b1abe6c10e85",
    "_uuid": "39fad6a0-fc29-48b9-ace7-38eaedf642fe",
    "collapsed": false,
    "execution": {
     "iopub.execute_input": "2022-02-05T10:56:46.720383Z",
     "iopub.status.busy": "2022-02-05T10:56:46.719782Z",
     "iopub.status.idle": "2022-02-05T10:56:46.724768Z",
     "shell.execute_reply": "2022-02-05T10:56:46.725347Z",
     "shell.execute_reply.started": "2022-02-05T10:53:59.624378Z"
    },
    "jupyter": {
     "outputs_hidden": false
    },
    "papermill": {
     "duration": 0.036437,
     "end_time": "2022-02-05T10:56:46.725483",
     "exception": false,
     "start_time": "2022-02-05T10:56:46.689046",
     "status": "completed"
    },
    "tags": []
   },
   "outputs": [
    {
     "data": {
      "text/plain": [
       "DatetimeIndex(['2017-04-01', '2017-07-01', '2017-10-01', '2018-01-01',\n",
       "               '2018-04-01', '2018-07-01', '2018-10-01', '2019-01-01',\n",
       "               '2019-04-01', '2019-07-01', '2019-10-01', '2020-01-01',\n",
       "               '2020-04-01', '2020-07-01', '2020-10-01', '2021-01-01',\n",
       "               '2021-04-01', '2021-07-01', '2021-10-01'],\n",
       "              dtype='datetime64[ns]', freq='QS-OCT')"
      ]
     },
     "execution_count": 22,
     "metadata": {},
     "output_type": "execute_result"
    }
   ],
   "source": [
    "months = idx.to_timestamp()\n",
    "months"
   ]
  },
  {
   "cell_type": "code",
   "execution_count": 23,
   "id": "40acb3dc",
   "metadata": {
    "_cell_guid": "e1d0cc87-b6c0-4bd3-a260-41e201d05b43",
    "_uuid": "7bf501e8-4895-4f76-9281-3e805200331e",
    "collapsed": false,
    "execution": {
     "iopub.execute_input": "2022-02-05T10:56:46.781794Z",
     "iopub.status.busy": "2022-02-05T10:56:46.781003Z",
     "iopub.status.idle": "2022-02-05T10:56:46.784509Z",
     "shell.execute_reply": "2022-02-05T10:56:46.784021Z",
     "shell.execute_reply.started": "2022-02-05T10:53:59.638228Z"
    },
    "jupyter": {
     "outputs_hidden": false
    },
    "papermill": {
     "duration": 0.033153,
     "end_time": "2022-02-05T10:56:46.784636",
     "exception": false,
     "start_time": "2022-02-05T10:56:46.751483",
     "status": "completed"
    },
    "tags": []
   },
   "outputs": [],
   "source": [
    "# import matplotlib.pyplot as plt\n",
    "# %matplotlib inline\n",
    "# # months.close.resmple('Q').mean().plot()"
   ]
  },
  {
   "cell_type": "code",
   "execution_count": 24,
   "id": "4661142d",
   "metadata": {
    "_cell_guid": "233e7123-4227-436a-a3aa-7110d0939c27",
    "_uuid": "ab23af26-6cc8-44ba-91bb-31286c93208c",
    "collapsed": false,
    "execution": {
     "iopub.execute_input": "2022-02-05T10:56:46.842411Z",
     "iopub.status.busy": "2022-02-05T10:56:46.841775Z",
     "iopub.status.idle": "2022-02-05T10:56:46.916318Z",
     "shell.execute_reply": "2022-02-05T10:56:46.915473Z",
     "shell.execute_reply.started": "2022-02-05T10:53:59.651103Z"
    },
    "jupyter": {
     "outputs_hidden": false
    },
    "papermill": {
     "duration": 0.1043,
     "end_time": "2022-02-05T10:56:46.916578",
     "exception": true,
     "start_time": "2022-02-05T10:56:46.812278",
     "status": "failed"
    },
    "tags": []
   },
   "outputs": [
    {
     "ename": "AttributeError",
     "evalue": "'Series' object has no attribute 'df'",
     "output_type": "error",
     "traceback": [
      "\u001b[0;31m---------------------------------------------------------------------------\u001b[0m",
      "\u001b[0;31mAttributeError\u001b[0m                            Traceback (most recent call last)",
      "\u001b[1;32m/Users/lsheiba/lsdev/nft_sales/notebook3d15234bc4.ipynb Cell 15'\u001b[0m in \u001b[0;36m<module>\u001b[0;34m\u001b[0m\n\u001b[0;32m----> <a href='vscode-notebook-cell:/Users/lsheiba/lsdev/nft_sales/notebook3d15234bc4.ipynb#ch0000014?line=0'>1</a>\u001b[0m df1[\u001b[39m'\u001b[39;49m\u001b[39mNumber_of_Sales_cumsum\u001b[39;49m\u001b[39m'\u001b[39;49m]\u001b[39m.\u001b[39;49mdf\u001b[39m.\u001b[39mdayofmonth\u001b[39m.\u001b[39mhead()\n",
      "File \u001b[0;32m~/.pyenv/versions/3.10.2/lib/python3.10/site-packages/pandas/core/generic.py:5583\u001b[0m, in \u001b[0;36mNDFrame.__getattr__\u001b[0;34m(self, name)\u001b[0m\n\u001b[1;32m   <a href='file:///~/.pyenv/versions/3.10.2/lib/python3.10/site-packages/pandas/core/generic.py?line=5575'>5576</a>\u001b[0m \u001b[39mif\u001b[39;00m (\n\u001b[1;32m   <a href='file:///~/.pyenv/versions/3.10.2/lib/python3.10/site-packages/pandas/core/generic.py?line=5576'>5577</a>\u001b[0m     name \u001b[39mnot\u001b[39;00m \u001b[39min\u001b[39;00m \u001b[39mself\u001b[39m\u001b[39m.\u001b[39m_internal_names_set\n\u001b[1;32m   <a href='file:///~/.pyenv/versions/3.10.2/lib/python3.10/site-packages/pandas/core/generic.py?line=5577'>5578</a>\u001b[0m     \u001b[39mand\u001b[39;00m name \u001b[39mnot\u001b[39;00m \u001b[39min\u001b[39;00m \u001b[39mself\u001b[39m\u001b[39m.\u001b[39m_metadata\n\u001b[1;32m   <a href='file:///~/.pyenv/versions/3.10.2/lib/python3.10/site-packages/pandas/core/generic.py?line=5578'>5579</a>\u001b[0m     \u001b[39mand\u001b[39;00m name \u001b[39mnot\u001b[39;00m \u001b[39min\u001b[39;00m \u001b[39mself\u001b[39m\u001b[39m.\u001b[39m_accessors\n\u001b[1;32m   <a href='file:///~/.pyenv/versions/3.10.2/lib/python3.10/site-packages/pandas/core/generic.py?line=5579'>5580</a>\u001b[0m     \u001b[39mand\u001b[39;00m \u001b[39mself\u001b[39m\u001b[39m.\u001b[39m_info_axis\u001b[39m.\u001b[39m_can_hold_identifiers_and_holds_name(name)\n\u001b[1;32m   <a href='file:///~/.pyenv/versions/3.10.2/lib/python3.10/site-packages/pandas/core/generic.py?line=5580'>5581</a>\u001b[0m ):\n\u001b[1;32m   <a href='file:///~/.pyenv/versions/3.10.2/lib/python3.10/site-packages/pandas/core/generic.py?line=5581'>5582</a>\u001b[0m     \u001b[39mreturn\u001b[39;00m \u001b[39mself\u001b[39m[name]\n\u001b[0;32m-> <a href='file:///~/.pyenv/versions/3.10.2/lib/python3.10/site-packages/pandas/core/generic.py?line=5582'>5583</a>\u001b[0m \u001b[39mreturn\u001b[39;00m \u001b[39mobject\u001b[39;49m\u001b[39m.\u001b[39;49m\u001b[39m__getattribute__\u001b[39;49m(\u001b[39mself\u001b[39;49m, name)\n",
      "\u001b[0;31mAttributeError\u001b[0m: 'Series' object has no attribute 'df'"
     ]
    }
   ],
   "source": [
    "df1['Number_of_Sales_cumsum'].df.dayofmonth.head()"
   ]
  },
  {
   "cell_type": "code",
   "execution_count": null,
   "id": "3aaa243f",
   "metadata": {
    "_cell_guid": "aea8a3d8-ea27-4751-a700-d828da70a0dd",
    "_uuid": "b5848461-87c3-48de-8564-9f760e5ae61a",
    "collapsed": false,
    "jupyter": {
     "outputs_hidden": false
    },
    "papermill": {
     "duration": null,
     "end_time": null,
     "exception": null,
     "start_time": null,
     "status": "pending"
    },
    "tags": []
   },
   "outputs": [],
   "source": []
  }
 ],
 "metadata": {
  "kernelspec": {
   "display_name": "Python 3",
   "language": "python",
   "name": "python3"
  },
  "language_info": {
   "codemirror_mode": {
    "name": "ipython",
    "version": 3
   },
   "file_extension": ".py",
   "mimetype": "text/x-python",
   "name": "python",
   "nbconvert_exporter": "python",
   "pygments_lexer": "ipython3",
   "version": "3.10.2"
  },
  "papermill": {
   "default_parameters": {},
   "duration": 12.008617,
   "end_time": "2022-02-05T10:56:47.554775",
   "environment_variables": {},
   "exception": true,
   "input_path": "__notebook__.ipynb",
   "output_path": "__notebook__.ipynb",
   "parameters": {},
   "start_time": "2022-02-05T10:56:35.546158",
   "version": "2.3.3"
  }
 },
 "nbformat": 4,
 "nbformat_minor": 5
}
